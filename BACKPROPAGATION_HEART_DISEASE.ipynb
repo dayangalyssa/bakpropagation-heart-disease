{
  "nbformat": 4,
  "nbformat_minor": 0,
  "metadata": {
    "colab": {
      "provenance": [],
      "include_colab_link": true
    },
    "kernelspec": {
      "name": "python3",
      "display_name": "Python 3"
    },
    "language_info": {
      "name": "python"
    }
  },
  "cells": [
    {
      "cell_type": "markdown",
      "metadata": {
        "id": "view-in-github",
        "colab_type": "text"
      },
      "source": [
        "<a href=\"https://colab.research.google.com/github/dayangalyssa/bakpropagation-heart-disease/blob/main/BACKPROPAGATION_HEART_DISEASE.ipynb\" target=\"_parent\"><img src=\"https://colab.research.google.com/assets/colab-badge.svg\" alt=\"Open In Colab\"/></a>"
      ]
    },
    {
      "cell_type": "code",
      "execution_count": 1,
      "metadata": {
        "id": "cjJP8ybY8Es3"
      },
      "outputs": [],
      "source": [
        "from google.colab import files\n",
        "import numpy as np\n",
        "import pandas as pd"
      ]
    },
    {
      "cell_type": "code",
      "source": [
        "uploaded = files.upload()"
      ],
      "metadata": {
        "colab": {
          "base_uri": "https://localhost:8080/",
          "height": 73
        },
        "id": "-C-oWKVA97dp",
        "outputId": "4d7f1058-9fe9-4ec9-d3e5-5b27488d768c"
      },
      "execution_count": 2,
      "outputs": [
        {
          "output_type": "display_data",
          "data": {
            "text/plain": [
              "<IPython.core.display.HTML object>"
            ],
            "text/html": [
              "\n",
              "     <input type=\"file\" id=\"files-a218edb9-1421-4584-be09-943be674b71f\" name=\"files[]\" multiple disabled\n",
              "        style=\"border:none\" />\n",
              "     <output id=\"result-a218edb9-1421-4584-be09-943be674b71f\">\n",
              "      Upload widget is only available when the cell has been executed in the\n",
              "      current browser session. Please rerun this cell to enable.\n",
              "      </output>\n",
              "      <script>// Copyright 2017 Google LLC\n",
              "//\n",
              "// Licensed under the Apache License, Version 2.0 (the \"License\");\n",
              "// you may not use this file except in compliance with the License.\n",
              "// You may obtain a copy of the License at\n",
              "//\n",
              "//      http://www.apache.org/licenses/LICENSE-2.0\n",
              "//\n",
              "// Unless required by applicable law or agreed to in writing, software\n",
              "// distributed under the License is distributed on an \"AS IS\" BASIS,\n",
              "// WITHOUT WARRANTIES OR CONDITIONS OF ANY KIND, either express or implied.\n",
              "// See the License for the specific language governing permissions and\n",
              "// limitations under the License.\n",
              "\n",
              "/**\n",
              " * @fileoverview Helpers for google.colab Python module.\n",
              " */\n",
              "(function(scope) {\n",
              "function span(text, styleAttributes = {}) {\n",
              "  const element = document.createElement('span');\n",
              "  element.textContent = text;\n",
              "  for (const key of Object.keys(styleAttributes)) {\n",
              "    element.style[key] = styleAttributes[key];\n",
              "  }\n",
              "  return element;\n",
              "}\n",
              "\n",
              "// Max number of bytes which will be uploaded at a time.\n",
              "const MAX_PAYLOAD_SIZE = 100 * 1024;\n",
              "\n",
              "function _uploadFiles(inputId, outputId) {\n",
              "  const steps = uploadFilesStep(inputId, outputId);\n",
              "  const outputElement = document.getElementById(outputId);\n",
              "  // Cache steps on the outputElement to make it available for the next call\n",
              "  // to uploadFilesContinue from Python.\n",
              "  outputElement.steps = steps;\n",
              "\n",
              "  return _uploadFilesContinue(outputId);\n",
              "}\n",
              "\n",
              "// This is roughly an async generator (not supported in the browser yet),\n",
              "// where there are multiple asynchronous steps and the Python side is going\n",
              "// to poll for completion of each step.\n",
              "// This uses a Promise to block the python side on completion of each step,\n",
              "// then passes the result of the previous step as the input to the next step.\n",
              "function _uploadFilesContinue(outputId) {\n",
              "  const outputElement = document.getElementById(outputId);\n",
              "  const steps = outputElement.steps;\n",
              "\n",
              "  const next = steps.next(outputElement.lastPromiseValue);\n",
              "  return Promise.resolve(next.value.promise).then((value) => {\n",
              "    // Cache the last promise value to make it available to the next\n",
              "    // step of the generator.\n",
              "    outputElement.lastPromiseValue = value;\n",
              "    return next.value.response;\n",
              "  });\n",
              "}\n",
              "\n",
              "/**\n",
              " * Generator function which is called between each async step of the upload\n",
              " * process.\n",
              " * @param {string} inputId Element ID of the input file picker element.\n",
              " * @param {string} outputId Element ID of the output display.\n",
              " * @return {!Iterable<!Object>} Iterable of next steps.\n",
              " */\n",
              "function* uploadFilesStep(inputId, outputId) {\n",
              "  const inputElement = document.getElementById(inputId);\n",
              "  inputElement.disabled = false;\n",
              "\n",
              "  const outputElement = document.getElementById(outputId);\n",
              "  outputElement.innerHTML = '';\n",
              "\n",
              "  const pickedPromise = new Promise((resolve) => {\n",
              "    inputElement.addEventListener('change', (e) => {\n",
              "      resolve(e.target.files);\n",
              "    });\n",
              "  });\n",
              "\n",
              "  const cancel = document.createElement('button');\n",
              "  inputElement.parentElement.appendChild(cancel);\n",
              "  cancel.textContent = 'Cancel upload';\n",
              "  const cancelPromise = new Promise((resolve) => {\n",
              "    cancel.onclick = () => {\n",
              "      resolve(null);\n",
              "    };\n",
              "  });\n",
              "\n",
              "  // Wait for the user to pick the files.\n",
              "  const files = yield {\n",
              "    promise: Promise.race([pickedPromise, cancelPromise]),\n",
              "    response: {\n",
              "      action: 'starting',\n",
              "    }\n",
              "  };\n",
              "\n",
              "  cancel.remove();\n",
              "\n",
              "  // Disable the input element since further picks are not allowed.\n",
              "  inputElement.disabled = true;\n",
              "\n",
              "  if (!files) {\n",
              "    return {\n",
              "      response: {\n",
              "        action: 'complete',\n",
              "      }\n",
              "    };\n",
              "  }\n",
              "\n",
              "  for (const file of files) {\n",
              "    const li = document.createElement('li');\n",
              "    li.append(span(file.name, {fontWeight: 'bold'}));\n",
              "    li.append(span(\n",
              "        `(${file.type || 'n/a'}) - ${file.size} bytes, ` +\n",
              "        `last modified: ${\n",
              "            file.lastModifiedDate ? file.lastModifiedDate.toLocaleDateString() :\n",
              "                                    'n/a'} - `));\n",
              "    const percent = span('0% done');\n",
              "    li.appendChild(percent);\n",
              "\n",
              "    outputElement.appendChild(li);\n",
              "\n",
              "    const fileDataPromise = new Promise((resolve) => {\n",
              "      const reader = new FileReader();\n",
              "      reader.onload = (e) => {\n",
              "        resolve(e.target.result);\n",
              "      };\n",
              "      reader.readAsArrayBuffer(file);\n",
              "    });\n",
              "    // Wait for the data to be ready.\n",
              "    let fileData = yield {\n",
              "      promise: fileDataPromise,\n",
              "      response: {\n",
              "        action: 'continue',\n",
              "      }\n",
              "    };\n",
              "\n",
              "    // Use a chunked sending to avoid message size limits. See b/62115660.\n",
              "    let position = 0;\n",
              "    do {\n",
              "      const length = Math.min(fileData.byteLength - position, MAX_PAYLOAD_SIZE);\n",
              "      const chunk = new Uint8Array(fileData, position, length);\n",
              "      position += length;\n",
              "\n",
              "      const base64 = btoa(String.fromCharCode.apply(null, chunk));\n",
              "      yield {\n",
              "        response: {\n",
              "          action: 'append',\n",
              "          file: file.name,\n",
              "          data: base64,\n",
              "        },\n",
              "      };\n",
              "\n",
              "      let percentDone = fileData.byteLength === 0 ?\n",
              "          100 :\n",
              "          Math.round((position / fileData.byteLength) * 100);\n",
              "      percent.textContent = `${percentDone}% done`;\n",
              "\n",
              "    } while (position < fileData.byteLength);\n",
              "  }\n",
              "\n",
              "  // All done.\n",
              "  yield {\n",
              "    response: {\n",
              "      action: 'complete',\n",
              "    }\n",
              "  };\n",
              "}\n",
              "\n",
              "scope.google = scope.google || {};\n",
              "scope.google.colab = scope.google.colab || {};\n",
              "scope.google.colab._files = {\n",
              "  _uploadFiles,\n",
              "  _uploadFilesContinue,\n",
              "};\n",
              "})(self);\n",
              "</script> "
            ]
          },
          "metadata": {}
        },
        {
          "output_type": "stream",
          "name": "stdout",
          "text": [
            "Saving heart_disease_dataset.csv to heart_disease_dataset.csv\n"
          ]
        }
      ]
    },
    {
      "cell_type": "code",
      "source": [
        "for filename in uploaded.keys():\n",
        "    print(f\"File '{filename}'\")\n",
        "\n",
        "    df = pd.read_csv(filename)\n",
        "    print(df.head())"
      ],
      "metadata": {
        "colab": {
          "base_uri": "https://localhost:8080/"
        },
        "id": "VUNd-0o7-mGR",
        "outputId": "47c60e11-8a31-4e31-a21a-42054069953c"
      },
      "execution_count": 3,
      "outputs": [
        {
          "output_type": "stream",
          "name": "stdout",
          "text": [
            "File 'heart_disease_dataset.csv'\n",
            "   Age  Gender  Cholesterol  Blood Pressure  Heart Rate  Smoking  \\\n",
            "0   75  Female          228             119          66  Current   \n",
            "1   48    Male          204             165          62  Current   \n",
            "2   53    Male          234              91          67    Never   \n",
            "3   69  Female          192              90          72  Current   \n",
            "4   62  Female          172             163          93    Never   \n",
            "\n",
            "  Alcohol Intake  Exercise Hours Family History Diabetes Obesity  \\\n",
            "0          Heavy               1             No       No     Yes   \n",
            "1            NaN               5             No       No      No   \n",
            "2          Heavy               3            Yes       No     Yes   \n",
            "3            NaN               4             No      Yes      No   \n",
            "4            NaN               6             No      Yes      No   \n",
            "\n",
            "   Stress Level  Blood Sugar Exercise Induced Angina   Chest Pain Type  \\\n",
            "0             8          119                     Yes   Atypical Angina   \n",
            "1             9           70                     Yes    Typical Angina   \n",
            "2             5          196                     Yes   Atypical Angina   \n",
            "3             7          107                     Yes  Non-anginal Pain   \n",
            "4             2          183                     Yes      Asymptomatic   \n",
            "\n",
            "   Heart Disease  \n",
            "0              1  \n",
            "1              0  \n",
            "2              1  \n",
            "3              0  \n",
            "4              0  \n"
          ]
        }
      ]
    },
    {
      "cell_type": "markdown",
      "source": [
        "#  EDA dan Pre-Processing"
      ],
      "metadata": {
        "id": "bEWgegOQaC3j"
      }
    },
    {
      "cell_type": "code",
      "source": [
        "print(df.info())"
      ],
      "metadata": {
        "colab": {
          "base_uri": "https://localhost:8080/"
        },
        "id": "dahNEjwaBAR4",
        "outputId": "7711d766-5018-440d-e062-abe11aa38f77"
      },
      "execution_count": 4,
      "outputs": [
        {
          "output_type": "stream",
          "name": "stdout",
          "text": [
            "<class 'pandas.core.frame.DataFrame'>\n",
            "RangeIndex: 1000 entries, 0 to 999\n",
            "Data columns (total 16 columns):\n",
            " #   Column                   Non-Null Count  Dtype \n",
            "---  ------                   --------------  ----- \n",
            " 0   Age                      1000 non-null   int64 \n",
            " 1   Gender                   1000 non-null   object\n",
            " 2   Cholesterol              1000 non-null   int64 \n",
            " 3   Blood Pressure           1000 non-null   int64 \n",
            " 4   Heart Rate               1000 non-null   int64 \n",
            " 5   Smoking                  1000 non-null   object\n",
            " 6   Alcohol Intake           660 non-null    object\n",
            " 7   Exercise Hours           1000 non-null   int64 \n",
            " 8   Family History           1000 non-null   object\n",
            " 9   Diabetes                 1000 non-null   object\n",
            " 10  Obesity                  1000 non-null   object\n",
            " 11  Stress Level             1000 non-null   int64 \n",
            " 12  Blood Sugar              1000 non-null   int64 \n",
            " 13  Exercise Induced Angina  1000 non-null   object\n",
            " 14  Chest Pain Type          1000 non-null   object\n",
            " 15  Heart Disease            1000 non-null   int64 \n",
            "dtypes: int64(8), object(8)\n",
            "memory usage: 125.1+ KB\n",
            "None\n"
          ]
        }
      ]
    },
    {
      "cell_type": "code",
      "source": [
        "print(df.describe())"
      ],
      "metadata": {
        "colab": {
          "base_uri": "https://localhost:8080/"
        },
        "id": "hospMI_QBCBF",
        "outputId": "24e75630-27c6-486f-ae58-8bb5ec564340"
      },
      "execution_count": 5,
      "outputs": [
        {
          "output_type": "stream",
          "name": "stdout",
          "text": [
            "               Age  Cholesterol  Blood Pressure   Heart Rate  Exercise Hours  \\\n",
            "count  1000.000000  1000.000000       1000.0000  1000.000000     1000.000000   \n",
            "mean     52.293000   249.939000        135.2810    79.204000        4.529000   \n",
            "std      15.727126    57.914673         26.3883    11.486092        2.934241   \n",
            "min      25.000000   150.000000         90.0000    60.000000        0.000000   \n",
            "25%      39.000000   200.000000        112.7500    70.000000        2.000000   \n",
            "50%      52.000000   248.000000        136.0000    79.000000        4.500000   \n",
            "75%      66.000000   299.000000        159.0000    89.000000        7.000000   \n",
            "max      79.000000   349.000000        179.0000    99.000000        9.000000   \n",
            "\n",
            "       Stress Level  Blood Sugar  Heart Disease  \n",
            "count   1000.000000  1000.000000    1000.000000  \n",
            "mean       5.646000   134.941000       0.392000  \n",
            "std        2.831024    36.699624       0.488441  \n",
            "min        1.000000    70.000000       0.000000  \n",
            "25%        3.000000   104.000000       0.000000  \n",
            "50%        6.000000   135.000000       0.000000  \n",
            "75%        8.000000   167.000000       1.000000  \n",
            "max       10.000000   199.000000       1.000000  \n"
          ]
        }
      ]
    },
    {
      "cell_type": "code",
      "source": [
        "print(df.isnull().sum())"
      ],
      "metadata": {
        "colab": {
          "base_uri": "https://localhost:8080/"
        },
        "id": "dt8CL3RU-4rt",
        "outputId": "bf53aede-fe00-49cb-e2a8-112181dc194f"
      },
      "execution_count": 6,
      "outputs": [
        {
          "output_type": "stream",
          "name": "stdout",
          "text": [
            "Age                          0\n",
            "Gender                       0\n",
            "Cholesterol                  0\n",
            "Blood Pressure               0\n",
            "Heart Rate                   0\n",
            "Smoking                      0\n",
            "Alcohol Intake             340\n",
            "Exercise Hours               0\n",
            "Family History               0\n",
            "Diabetes                     0\n",
            "Obesity                      0\n",
            "Stress Level                 0\n",
            "Blood Sugar                  0\n",
            "Exercise Induced Angina      0\n",
            "Chest Pain Type              0\n",
            "Heart Disease                0\n",
            "dtype: int64\n"
          ]
        }
      ]
    },
    {
      "cell_type": "code",
      "source": [
        "df['Alcohol Intake'] = df['Alcohol Intake'].fillna(df['Alcohol Intake'].mode()[0])"
      ],
      "metadata": {
        "id": "cA0WLe5Wjnr5"
      },
      "execution_count": 7,
      "outputs": []
    },
    {
      "cell_type": "code",
      "source": [
        "print(df.isnull().sum())"
      ],
      "metadata": {
        "colab": {
          "base_uri": "https://localhost:8080/"
        },
        "id": "RbwOSHAcT9GI",
        "outputId": "e564102a-64dc-4ad0-f1b2-8368197a5d22"
      },
      "execution_count": 8,
      "outputs": [
        {
          "output_type": "stream",
          "name": "stdout",
          "text": [
            "Age                        0\n",
            "Gender                     0\n",
            "Cholesterol                0\n",
            "Blood Pressure             0\n",
            "Heart Rate                 0\n",
            "Smoking                    0\n",
            "Alcohol Intake             0\n",
            "Exercise Hours             0\n",
            "Family History             0\n",
            "Diabetes                   0\n",
            "Obesity                    0\n",
            "Stress Level               0\n",
            "Blood Sugar                0\n",
            "Exercise Induced Angina    0\n",
            "Chest Pain Type            0\n",
            "Heart Disease              0\n",
            "dtype: int64\n"
          ]
        }
      ]
    },
    {
      "cell_type": "markdown",
      "source": [
        "## Target"
      ],
      "metadata": {
        "id": "sDqOxosKaTC3"
      }
    },
    {
      "cell_type": "code",
      "source": [
        "import matplotlib.pyplot as plt\n",
        "import seaborn as sns\n",
        "\n",
        "sns.set_style(\"whitegrid\")\n",
        "\n",
        "plt.figure(figsize=(8,6))\n",
        "sns.countplot(x='Heart Disease', data=df, palette='pastel')\n",
        "plt.title('Target Value Distribution')\n",
        "plt.show()\n",
        "\n",
        "target_temp = df['Heart Disease'].value_counts()\n",
        "print(target_temp)"
      ],
      "metadata": {
        "colab": {
          "base_uri": "https://localhost:8080/",
          "height": 720
        },
        "id": "LxyJoXAvXdlC",
        "outputId": "8696be91-4d8d-4155-930a-8f82d1596f8d"
      },
      "execution_count": 9,
      "outputs": [
        {
          "output_type": "stream",
          "name": "stderr",
          "text": [
            "<ipython-input-9-b9e8b9a3c4b0>:7: FutureWarning: \n",
            "\n",
            "Passing `palette` without assigning `hue` is deprecated and will be removed in v0.14.0. Assign the `x` variable to `hue` and set `legend=False` for the same effect.\n",
            "\n",
            "  sns.countplot(x='Heart Disease', data=df, palette='pastel')\n"
          ]
        },
        {
          "output_type": "display_data",
          "data": {
            "text/plain": [
              "<Figure size 800x600 with 1 Axes>"
            ],
            "image/png": "[encoded data removed]"
          },
          "metadata": {}
        },
        {
          "output_type": "stream",
          "name": "stdout",
          "text": [
            "Heart Disease\n",
            "0    608\n",
            "1    392\n",
            "Name: count, dtype: int64\n"
          ]
        }
      ]
    },
    {
      "cell_type": "code",
      "source": [
        "from sklearn.model_selection import train_test_split\n",
        "from sklearn.metrics import accuracy_score, classification_report"
      ],
      "metadata": {
        "id": "ngWyGHDaSR2w"
      },
      "execution_count": 10,
      "outputs": []
    },
    {
      "cell_type": "code",
      "source": [
        "categorical_cols = ['Gender', 'Smoking', 'Alcohol Intake', 'Family History',\n",
        "                    'Diabetes', 'Obesity', 'Exercise Induced Angina', 'Chest Pain Type']\n",
        "data = pd.get_dummies(df, columns=categorical_cols, drop_first=True)\n",
        "\n",
        "X = data.drop(columns=['Heart Disease'])\n",
        "y = data['Heart Disease']"
      ],
      "metadata": {
        "id": "bHEAuE97SiUg"
      },
      "execution_count": 11,
      "outputs": []
    },
    {
      "cell_type": "code",
      "source": [
        "X = X.astype({col: 'int' for col in X.select_dtypes(include=['bool']).columns})\n",
        "\n",
        "numeric_cols = X.select_dtypes(include=['int', 'float']).columns\n",
        "X[numeric_cols] = (X[numeric_cols] - X[numeric_cols].min()) / (X[numeric_cols].max() - X[numeric_cols].min())\n",
        "\n",
        "X_train, X_test, y_train, y_test = train_test_split(X.values, y.values, test_size=0.2, random_state=42)\n",
        "\n",
        "y_train_onehot = np.eye(2)[y_train]\n",
        "y_test_onehot = np.eye(2)[y_test]\n"
      ],
      "metadata": {
        "id": "NOvj6gZ6bUKO"
      },
      "execution_count": 12,
      "outputs": []
    },
    {
      "cell_type": "markdown",
      "source": [
        "# Fungsi Backpropagation"
      ],
      "metadata": {
        "id": "JU9FHSJoaWqm"
      }
    },
    {
      "cell_type": "code",
      "source": [
        "import numpy as np\n",
        "import matplotlib.pyplot as plt\n",
        "\n",
        "def sig(x):\n",
        "    return 1 / (1 + np.exp(-np.clip(x, -100, 100)))\n",
        "\n",
        "def sigd(x):\n",
        "    s = sig(x)\n",
        "    return s * (1 - s)\n",
        "\n",
        "def bp_fit(X, target, layer_conf, max_epoch, max_error=0.01, learn_rate=0.01, print_per_epoch=100):\n",
        "    np.random.seed(1)\n",
        "\n",
        "    nin = [np.empty(i) for i in layer_conf]\n",
        "    n = [np.empty(j + 1) if i < len(layer_conf) - 1 else np.empty(j) for i, j in enumerate(layer_conf)]\n",
        "\n",
        "    w = [np.random.rand(layer_conf[i] + 1, layer_conf[i + 1]) for i in range(len(layer_conf) - 1)]\n",
        "    dw = [np.empty((layer_conf[i] + 1, layer_conf[i + 1])) for i in range(len(layer_conf) - 1)]\n",
        "    d = [np.empty(s) for s in layer_conf[1:]]\n",
        "    din = [np.empty(s) for s in layer_conf[1:-1]]\n",
        "\n",
        "    epoch = 0\n",
        "    mse = 1\n",
        "    mse_history = []\n",
        "\n",
        "    for i in range(0, len(n) - 1):\n",
        "        n[i][-1] = 1\n",
        "\n",
        "    while (max_epoch == -1 or epoch < max_epoch) and mse > max_error:\n",
        "        epoch += 1\n",
        "        mse = 0\n",
        "\n",
        "        for r in range(len(X)):\n",
        "            n[0][:-1] = X[r]\n",
        "\n",
        "            for L in range(1, len(layer_conf)):\n",
        "                nin[L] = np.dot(n[L-1], w[L-1])\n",
        "                n[L][:len(nin[L])] = sig(nin[L])\n",
        "\n",
        "            e = target[r] - n[-1]\n",
        "            mse += sum(e ** 2)\n",
        "            d[-1] = e * sigd(nin[-1])\n",
        "            dw[-1] = learn_rate * d[-1] * n[-2].reshape((-1, 1))\n",
        "\n",
        "            for L in range(len(layer_conf) - 1, 1, -1):\n",
        "                din[L-2] = np.dot(d[L-1], np.transpose(w[L-1][:-1]))\n",
        "                d[L-2] = din[L-2] * np.array(sigd(nin[L-1]))\n",
        "                dw[L-2] = learn_rate * d[L-2] * n[L-2].reshape((-1, 1))\n",
        "\n",
        "            for i in range(len(w)):\n",
        "                w[i] += dw[i]\n",
        "\n",
        "        mse /= len(X)\n",
        "        mse_history.append(mse)\n",
        "\n",
        "        if print_per_epoch > -1 and epoch % print_per_epoch == 0:\n",
        "            print(f'Epoch {epoch}, MSE: {mse}')\n",
        "\n",
        "    return w, epoch, mse, mse_history\n",
        "\n",
        "def bp_predict(X, w):\n",
        "    n = [np.empty(len(i)) for i in w]\n",
        "    nin = [np.empty(len(i[0])) for i in w]\n",
        "    predict = []\n",
        "    n.append(np.empty(len(w[-1][0])))\n",
        "\n",
        "    for x in X:\n",
        "        n[0][:-1] = x\n",
        "        for L in range(0, len(w)):\n",
        "            nin[L] = np.dot(n[L], w[L])\n",
        "            n[L + 1][:len(nin[L])] = sig(nin[L])\n",
        "        predict.append(n[-1].copy())\n",
        "\n",
        "    return predict"
      ],
      "metadata": {
        "id": "OWvk1WcJZhVB"
      },
      "execution_count": 13,
      "outputs": []
    },
    {
      "cell_type": "markdown",
      "source": [
        "# Pelatihan dan Prediksi"
      ],
      "metadata": {
        "id": "oHsm0zYZkwgS"
      }
    },
    {
      "cell_type": "code",
      "source": [
        "input_size = X_train.shape[1]\n",
        "hidden_layer = 10\n",
        "output_size = 2\n",
        "layer_conf = [input_size, hidden_layer, output_size]"
      ],
      "metadata": {
        "id": "b8d0se5-mtrM"
      },
      "execution_count": 14,
      "outputs": []
    },
    {
      "cell_type": "code",
      "source": [
        "print(\"\\Proses Training...\")\n",
        "weights, epochs, mse, mse_history = bp_fit(X_train, y_train_onehot, layer_conf, max_epoch=1000, max_error=0.01)\n",
        "\n",
        "print(f\"\\nTotal Epochs: {epochs}, MSE: {mse}\")\n",
        "\n",
        "predict = bp_predict(X_train, weights)\n",
        "predict_labels = np.argmax(predict, axis=1)\n",
        "y_train_labels = np.argmax(y_train_onehot, axis=1)\n",
        "\n",
        "accuracy = accuracy_score(predict_labels, y_train_labels)\n",
        "\n",
        "print(\"\\nOutput Prediksi:\", predict_labels)\n",
        "print(\"Target Sebenarnya:\", y_train_labels)\n",
        "print(f\"Akurasi: {accuracy:.4f}\")"
      ],
      "metadata": {
        "colab": {
          "base_uri": "https://localhost:8080/"
        },
        "id": "M7PKnzNyZLTM",
        "outputId": "d770450a-2d9a-49f9-a49d-91c14bff2528"
      },
      "execution_count": 15,
      "outputs": [
        {
          "output_type": "stream",
          "name": "stdout",
          "text": [
            "\\Proses Training...\n",
            "Epoch 100, MSE: 0.4757172129897278\n",
            "Epoch 200, MSE: 0.2398450063102732\n",
            "Epoch 300, MSE: 0.18066788931633115\n",
            "Epoch 400, MSE: 0.17524074596679945\n",
            "Epoch 500, MSE: 0.17385827125172745\n",
            "Epoch 600, MSE: 0.17312046317081556\n",
            "Epoch 700, MSE: 0.17235485042607843\n",
            "Epoch 800, MSE: 0.1711326716136524\n",
            "Epoch 900, MSE: 0.16884973942480805\n",
            "Epoch 1000, MSE: 0.16435617288383345\n",
            "\n",
            "Total Epochs: 1000, MSE: 0.16435617288383345\n",
            "\n",
            "Output Prediksi: [1 0 0 0 0 0 1 0 0 1 1 0 1 1 1 0 0 0 0 1 0 1 0 0 1 0 0 0 0 1 1 0 0 0 0 0 0\n",
            " 0 1 0 0 1 0 0 0 0 0 1 0 1 0 0 1 0 0 0 1 1 1 1 0 0 1 0 0 1 1 1 1 1 0 0 0 0\n",
            " 0 0 1 0 1 1 0 0 0 1 0 0 0 0 1 0 0 1 0 0 1 0 0 1 0 0 1 0 0 1 1 1 0 0 0 0 0\n",
            " 1 0 1 0 1 1 0 0 0 0 0 0 1 0 0 0 0 0 0 1 1 1 0 1 1 1 0 1 0 0 0 0 0 0 1 0 0\n",
            " 0 0 0 0 1 0 0 0 1 1 0 0 0 0 0 0 1 0 1 0 0 1 1 1 1 1 0 0 0 1 0 0 1 0 0 0 0\n",
            " 0 0 0 1 1 0 0 1 0 0 0 0 0 1 0 0 0 0 1 1 0 1 0 1 1 1 0 0 0 0 0 0 0 1 0 0 0\n",
            " 1 0 0 0 0 0 0 0 1 0 0 1 0 1 0 1 0 0 0 0 1 1 1 0 0 1 0 1 1 0 1 0 0 0 0 0 0\n",
            " 1 1 1 0 0 0 1 0 0 1 0 0 0 1 0 0 0 0 0 0 1 0 0 0 0 0 0 0 1 0 0 0 0 1 0 1 0\n",
            " 1 0 0 0 1 1 0 0 0 0 0 0 0 1 0 0 0 0 0 0 0 0 0 1 0 1 0 0 0 0 0 0 1 0 0 0 1\n",
            " 0 0 0 0 1 1 1 0 1 1 0 0 0 0 1 0 0 0 0 1 0 0 1 1 1 0 1 1 0 0 1 1 0 1 0 0 0\n",
            " 0 0 1 0 0 1 0 0 0 0 0 1 1 0 1 0 0 1 0 1 0 1 0 0 0 0 0 0 0 0 0 0 0 1 0 0 0\n",
            " 1 1 0 0 0 0 0 0 0 0 0 0 0 0 0 1 0 0 1 0 0 1 0 0 0 0 0 0 0 1 0 1 1 0 0 1 0\n",
            " 1 1 0 0 0 1 1 0 1 0 0 0 1 1 0 0 1 0 1 0 0 0 0 0 0 0 0 0 0 0 0 0 0 0 1 0 1\n",
            " 0 0 0 1 1 0 1 1 1 1 0 1 0 0 1 0 0 0 1 1 0 0 0 1 0 1 0 0 1 0 0 0 0 0 1 0 0\n",
            " 0 0 0 1 0 0 0 0 1 0 0 1 0 1 1 0 0 1 0 0 1 1 1 0 0 0 1 0 0 0 0 1 0 0 0 1 0\n",
            " 0 0 0 0 0 1 1 0 0 0 1 1 1 0 0 0 0 0 1 1 0 1 0 0 1 0 0 0 1 1 0 0 0 0 1 0 0\n",
            " 0 0 0 1 1 0 1 0 0 0 1 1 0 0 0 1 0 0 1 0 0 0 1 1 0 1 0 1 0 0 1 1 0 1 1 0 1\n",
            " 1 0 0 1 0 0 1 0 1 0 1 0 1 0 0 1 0 1 1 0 1 0 1 1 0 1 1 0 0 1 1 0 0 1 0 0 0\n",
            " 1 0 0 0 0 0 1 1 0 0 0 0 0 1 1 1 0 0 0 0 0 1 0 0 0 0 0 0 0 1 0 0 1 1 0 0 0\n",
            " 0 1 0 0 1 0 1 1 0 0 0 1 0 0 0 0 0 0 0 0 1 1 1 0 0 0 1 0 0 0 0 0 0 1 0 0 0\n",
            " 0 0 0 0 1 1 0 0 1 0 0 0 1 0 1 0 0 0 1 1 0 0 0 0 0 0 0 1 0 0 1 1 0 0 0 1 0\n",
            " 1 0 0 0 0 1 1 1 0 0 0 0 0 0 0 1 1 0 1 0 0 0 0]\n",
            "Target Sebenarnya: [1 0 1 0 0 0 1 1 0 1 0 0 1 1 1 0 0 0 0 1 0 1 0 0 1 1 0 0 0 1 0 1 0 0 1 0 0\n",
            " 0 0 0 0 1 1 0 0 0 0 1 1 1 0 0 1 0 1 1 1 1 1 1 0 0 1 0 1 1 1 1 1 1 0 0 0 1\n",
            " 0 1 1 1 1 1 1 0 0 1 0 0 0 0 0 0 0 1 0 0 1 0 0 1 1 1 1 0 0 1 1 1 0 0 0 1 0\n",
            " 1 0 1 0 1 1 0 0 0 0 1 1 1 0 0 0 1 0 0 1 1 1 0 1 1 1 0 1 0 0 0 0 0 0 1 1 0\n",
            " 1 0 0 0 1 0 0 0 1 1 0 0 0 0 1 0 1 0 1 0 0 1 1 1 0 1 1 1 0 1 0 0 1 0 0 0 0\n",
            " 0 1 0 1 1 1 0 1 0 0 1 0 0 1 0 0 0 0 1 1 0 1 0 1 1 1 1 0 0 0 0 0 0 1 0 0 0\n",
            " 1 0 0 0 1 0 0 0 1 0 0 1 1 1 0 1 0 0 0 0 1 1 1 1 0 1 0 1 1 1 1 0 0 0 0 0 0\n",
            " 1 1 1 1 0 0 1 0 0 1 0 0 0 1 0 0 0 0 0 0 1 0 0 0 0 0 0 0 1 1 0 0 0 1 0 1 0\n",
            " 1 0 0 1 1 1 0 0 0 0 0 0 0 1 0 0 0 0 0 0 1 0 0 1 1 1 0 0 0 0 0 0 1 1 0 0 1\n",
            " 0 0 0 1 1 1 1 1 1 1 0 0 0 0 1 0 0 0 0 1 1 0 1 1 1 1 1 1 1 0 1 1 0 1 0 1 0\n",
            " 1 0 1 0 0 1 0 1 0 0 0 1 1 0 1 0 1 1 0 1 0 0 0 0 1 0 0 0 0 0 0 1 0 1 0 0 0\n",
            " 1 0 0 0 0 0 0 0 0 0 0 0 0 1 0 1 0 0 1 0 1 1 0 0 0 0 0 0 0 1 0 1 1 0 0 1 0\n",
            " 1 1 0 0 0 1 1 0 1 0 0 0 1 1 0 0 1 0 1 0 0 0 0 1 0 0 0 0 1 1 0 0 0 0 1 0 1\n",
            " 0 0 0 1 1 0 1 1 1 0 0 1 0 0 1 0 0 0 0 1 0 0 0 1 0 1 1 0 1 1 0 0 0 0 1 0 0\n",
            " 0 0 0 1 0 0 0 0 1 0 0 1 0 1 1 0 0 1 1 0 0 1 1 0 0 0 1 0 0 0 0 1 1 0 0 1 0\n",
            " 0 1 0 0 0 1 1 0 0 0 1 0 1 1 0 0 0 0 1 1 0 1 0 0 1 0 0 0 1 1 0 0 0 0 1 0 0\n",
            " 0 0 0 1 1 0 1 0 1 0 1 1 0 0 0 1 0 1 1 0 0 0 1 0 0 1 0 1 0 0 1 1 0 1 1 0 0\n",
            " 0 0 0 1 0 0 1 0 1 0 1 1 1 0 0 0 0 1 0 0 1 0 1 1 1 1 1 0 0 0 1 0 0 1 0 0 0\n",
            " 1 0 0 0 0 0 1 1 0 0 0 0 1 1 1 0 0 0 0 0 0 1 0 0 0 0 0 0 0 1 0 0 1 1 0 0 0\n",
            " 0 1 0 0 1 0 0 1 0 0 0 1 0 1 0 0 0 0 0 0 1 1 1 0 0 0 1 1 0 0 0 0 0 1 0 0 0\n",
            " 0 0 0 0 1 1 0 0 1 0 0 0 1 0 1 0 0 0 1 1 0 0 0 0 1 0 0 1 0 0 1 1 0 0 1 0 0\n",
            " 1 0 0 0 0 1 1 1 0 0 1 0 0 0 0 1 1 0 1 0 0 1 0]\n",
            "Akurasi: 0.8850\n"
          ]
        }
      ]
    },
    {
      "cell_type": "code",
      "source": [
        "plt.figure(figsize=(10, 6))\n",
        "plt.plot(range(1, len(mse_history) + 1), mse_history, marker='o', label='Training Loss (MSE)')\n",
        "plt.title('Perubahan Loss (MSE) Selama Proses Training', fontsize=14)\n",
        "plt.xlabel('Epoch', fontsize=12)\n",
        "plt.ylabel('Mean Squared Error (MSE)', fontsize=12)\n",
        "plt.grid(True)\n",
        "plt.legend()\n",
        "plt.show()"
      ],
      "metadata": {
        "colab": {
          "base_uri": "https://localhost:8080/",
          "height": 569
        },
        "id": "FyAqU4eQmyyQ",
        "outputId": "2b676bd7-225a-4201-f874-3ab64eb4a3d4"
      },
      "execution_count": 16,
      "outputs": [
        {
          "output_type": "display_data",
          "data": {
            "text/plain": [
              "<Figure size 1000x600 with 1 Axes>"
            ],
            "image/png": "[encoded data removed]"
          },
          "metadata": {}
        }
      ]
    },
    {
      "cell_type": "code",
      "source": [
        "from sklearn.metrics import accuracy_score, classification_report\n",
        "\n",
        "y_pred_prob = bp_predict(X_test, weights)\n",
        "y_pred = np.argmax(y_pred_prob, axis=1)\n",
        "\n",
        "accuracy = accuracy_score(y_test, y_pred)\n",
        "print(\"\\nAccuracy:\", accuracy)\n",
        "print(\"\\nClassification Report:\")\n",
        "print(classification_report(y_test, y_pred))"
      ],
      "metadata": {
        "id": "QzX69fQpFD5W",
        "colab": {
          "base_uri": "https://localhost:8080/"
        },
        "outputId": "2d6dc491-1838-4b85-84a8-58698aa9ced4"
      },
      "execution_count": 17,
      "outputs": [
        {
          "output_type": "stream",
          "name": "stdout",
          "text": [
            "\n",
            "Accuracy: 0.855\n",
            "\n",
            "Classification Report:\n",
            "              precision    recall  f1-score   support\n",
            "\n",
            "           0       0.85      0.92      0.88       118\n",
            "           1       0.86      0.77      0.81        82\n",
            "\n",
            "    accuracy                           0.85       200\n",
            "   macro avg       0.86      0.84      0.85       200\n",
            "weighted avg       0.86      0.85      0.85       200\n",
            "\n"
          ]
        }
      ]
    }
  ]
}